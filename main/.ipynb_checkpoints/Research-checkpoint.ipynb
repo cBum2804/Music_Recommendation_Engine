{
 "cells": [
  {
   "cell_type": "code",
   "execution_count": 1,
   "id": "71eb2109-e035-46c6-94f6-db4134680e67",
   "metadata": {},
   "outputs": [
    {
     "name": "stdout",
     "output_type": "stream",
     "text": [
      "+---+-------------+----------------+--------------------+----------+----+--------+------------+------+---+--------+----+-----------+------------+----------------+--------+-------+-------+-----------+--------------+\n",
      "|_c0|  artist_name|      track_name|            track_id|popularity|year|   genre|danceability|energy|key|loudness|mode|speechiness|acousticness|instrumentalness|liveness|valence|  tempo|duration_ms|time_signature|\n",
      "+---+-------------+----------------+--------------------+----------+----+--------+------------+------+---+--------+----+-----------+------------+----------------+--------+-------+-------+-----------+--------------+\n",
      "|  0|   Jason Mraz| I Won't Give Up|53QF56cjZA9RTuuMZ...|        68|2012|acoustic|       0.483| 0.303|  4| -10.058|   1|     0.0429|       0.694|             0.0|   0.115|  0.139|133.406|   240166.0|           3.0|\n",
      "|  1|   Jason Mraz|93 Million Miles|1s8tP3jP4GZcyHDsj...|        50|2012|acoustic|       0.572| 0.454|  3| -10.286|   1|     0.0258|       0.477|        1.37e-05|  0.0974|  0.515|140.182|   216387.0|           4.0|\n",
      "|  2|Joshua Hyslop|Do Not Let Me Go|7BRCa8MPiyuvr2VU3...|        57|2012|acoustic|       0.409| 0.234|  3| -13.711|   1|     0.0323|       0.338|           5e-05|  0.0895|  0.145|139.832|   158960.0|           4.0|\n",
      "|  3| Boyce Avenue|        Fast Car|63wsZUhUZLlh1Osyr...|        58|2012|acoustic|       0.392| 0.251| 10|  -9.845|   1|     0.0363|       0.807|             0.0|  0.0797|  0.508|204.961|   304293.0|           4.0|\n",
      "|  4| Andrew Belle|Sky's Still Blue|6nXIYClvJAfi6ujLi...|        54|2012|acoustic|        0.43| 0.791|  6|  -5.419|   0|     0.0302|      0.0726|          0.0193|    0.11|  0.217|171.864|   244320.0|           4.0|\n",
      "+---+-------------+----------------+--------------------+----------+----+--------+------------+------+---+--------+----+-----------+------------+----------------+--------+-------+-------+-----------+--------------+\n",
      "only showing top 5 rows\n",
      "\n"
     ]
    }
   ],
   "source": [
    "from pyspark.sql import SparkSession\n",
    "\n",
    "# Initialize Spark Session\n",
    "spark = SparkSession.builder.appName(\"SpotifyRecommendation\").getOrCreate()\n",
    "\n",
    "# Load dataset (update the path accordingly)\n",
    "df = spark.read.csv(r\"C:\\Users\\dhruv\\OneDrive\\Desktop\\Music Recommendation project\\data\\spotify_data_million.csv\", \n",
    "                     header=True, inferSchema=True)\n",
    "\n",
    "# Show first 5 rows\n",
    "df.show(5)\n"
   ]
  },
  {
   "cell_type": "code",
   "execution_count": 2,
   "id": "b70991a6-ad73-4e9b-b0ac-54aa4a250f63",
   "metadata": {},
   "outputs": [
    {
     "name": "stdout",
     "output_type": "stream",
     "text": [
      "+-------+-----------+----------+--------+----------+-------+-------+------------+-------+-------+--------+-------+-----------+------------+----------------+--------+-------+-------+-----------+--------------+\n",
      "|    _c0|artist_name|track_name|track_id|popularity|   year|  genre|danceability| energy|    key|loudness|   mode|speechiness|acousticness|instrumentalness|liveness|valence|  tempo|duration_ms|time_signature|\n",
      "+-------+-----------+----------+--------+----------+-------+-------+------------+-------+-------+--------+-------+-----------+------------+----------------+--------+-------+-------+-----------+--------------+\n",
      "|1159764|    1159764|   1159764| 1159764|   1159764|1159764|1159764|     1159764|1159764|1159764| 1159764|1159764|    1159764|     1159764|         1159764| 1159764|1159764|1159764|    1159764|       1159764|\n",
      "+-------+-----------+----------+--------+----------+-------+-------+------------+-------+-------+--------+-------+-----------+------------+----------------+--------+-------+-------+-----------+--------------+\n",
      "\n"
     ]
    }
   ],
   "source": [
    "from pyspark.sql.functions import col, count\n",
    "\n",
    "df = df.dropDuplicates()\n",
    "# Count missing values\n",
    "df.select([count(col(c)).alias(c) for c in df.columns]).show()\n",
    "\n"
   ]
  },
  {
   "cell_type": "code",
   "execution_count": 8,
   "id": "5872446e-5329-43fc-a005-4ef394ea48c0",
   "metadata": {},
   "outputs": [],
   "source": [
    "df = df.na.drop(\"any\")\n",
    "df = df.dropDuplicates()"
   ]
  },
  {
   "cell_type": "code",
   "execution_count": 9,
   "id": "513973e3-8bb2-4cd2-9653-409282039cfa",
   "metadata": {},
   "outputs": [
    {
     "data": {
      "text/plain": [
       "1159764"
      ]
     },
     "execution_count": 9,
     "metadata": {},
     "output_type": "execute_result"
    }
   ],
   "source": [
    "df.count()\n"
   ]
  },
  {
   "cell_type": "code",
   "execution_count": 10,
   "id": "548cc177-cf6d-4957-ba45-b5f49d9646f2",
   "metadata": {},
   "outputs": [
    {
     "data": {
      "text/plain": [
       "882285"
      ]
     },
     "execution_count": 10,
     "metadata": {},
     "output_type": "execute_result"
    }
   ],
   "source": [
    "distinct_count = df.select(\"track_name\").distinct().count()\n",
    "distinct_count"
   ]
  },
  {
   "cell_type": "code",
   "execution_count": 11,
   "id": "5d9eefc6-0566-4b98-82d4-4a9f8a544c58",
   "metadata": {},
   "outputs": [],
   "source": [
    "df2 = spark.read.csv(r\"C:\\Users\\dhruv\\OneDrive\\Desktop\\Music Recommendation project\\data\\million_song_data.csv\",header=True, inferSchema=True)"
   ]
  },
  {
   "cell_type": "code",
   "execution_count": 12,
   "id": "b4f26268-e3a1-4d74-b947-ea0929666b96",
   "metadata": {},
   "outputs": [
    {
     "data": {
      "text/plain": [
       "702429"
      ]
     },
     "execution_count": 12,
     "metadata": {},
     "output_type": "execute_result"
    }
   ],
   "source": [
    "distinct_count2 = df2.select(\"title\").distinct().count()\n",
    "distinct_count2"
   ]
  },
  {
   "cell_type": "code",
   "execution_count": 13,
   "id": "bde69b0b-fd4a-447e-991a-f596d387e54f",
   "metadata": {},
   "outputs": [],
   "source": [
    "df = df.dropDuplicates([\"track_name\"])\n",
    "df2 = df2.select(\"title\", \"song_id\").dropDuplicates([\"title\"])"
   ]
  },
  {
   "cell_type": "code",
   "execution_count": 14,
   "id": "414cb20c-cf40-4943-917d-d815660eddf6",
   "metadata": {},
   "outputs": [
    {
     "data": {
      "text/plain": [
       "702429"
      ]
     },
     "execution_count": 14,
     "metadata": {},
     "output_type": "execute_result"
    }
   ],
   "source": [
    "df2.count()"
   ]
  },
  {
   "cell_type": "code",
   "execution_count": 23,
   "id": "de9d2988-b4cd-41dc-915e-7ecaa0f1f3de",
   "metadata": {},
   "outputs": [],
   "source": [
    "df_common = df.join(df2, df.track_name == df2.title, \"inner\") \\\n",
    " .select(df[\"*\"], df2[\"song_id\"])\n"
   ]
  },
  {
   "cell_type": "code",
   "execution_count": 25,
   "id": "9e3f8a0d-8027-4c2c-92d0-57ce3224a109",
   "metadata": {},
   "outputs": [
    {
     "data": {
      "text/plain": [
       "122915"
      ]
     },
     "execution_count": 25,
     "metadata": {},
     "output_type": "execute_result"
    }
   ],
   "source": [
    "df_common.count()"
   ]
  },
  {
   "cell_type": "code",
   "execution_count": 26,
   "id": "6232428b-a569-4076-9040-6296dd13b5e8",
   "metadata": {},
   "outputs": [],
   "source": [
    "df_user_data = spark.read.csv(r\"C:\\Users\\dhruv\\OneDrive\\Desktop\\Music Recommendation project\\data\\triplets_file.csv\",header=True, inferSchema=True)"
   ]
  },
  {
   "cell_type": "code",
   "execution_count": 27,
   "id": "00554992-018e-4e62-a921-35788776134c",
   "metadata": {},
   "outputs": [],
   "source": [
    "df_user_data = df_user_data.na.drop(\"any\")"
   ]
  },
  {
   "cell_type": "code",
   "execution_count": 28,
   "id": "97bb27ad-f168-41e3-a472-0ce2132ac54c",
   "metadata": {},
   "outputs": [
    {
     "data": {
      "text/plain": [
       "2000000"
      ]
     },
     "execution_count": 28,
     "metadata": {},
     "output_type": "execute_result"
    }
   ],
   "source": [
    "df_user_data.count()"
   ]
  },
  {
   "cell_type": "code",
   "execution_count": 29,
   "id": "39022785-d8a3-4ea7-a270-de10e854d0d6",
   "metadata": {},
   "outputs": [
    {
     "data": {
      "text/plain": [
       "1159038"
      ]
     },
     "execution_count": 29,
     "metadata": {},
     "output_type": "execute_result"
    }
   ],
   "source": [
    "df_common_data = df_user_data.join(df2, df_user_data.song_id == df2.song_id, \"inner\") \\\n",
    "\n",
    "                       \n",
    "\n",
    "df_common_data.count()  # Check row count"
   ]
  },
  {
   "cell_type": "code",
   "execution_count": null,
   "id": "37d65e6c-8664-4bb2-b063-e2185ce17c8b",
   "metadata": {},
   "outputs": [],
   "source": []
  }
 ],
 "metadata": {
  "kernelspec": {
   "display_name": "Python 3 (ipykernel)",
   "language": "python",
   "name": "python3"
  },
  "language_info": {
   "codemirror_mode": {
    "name": "ipython",
    "version": 3
   },
   "file_extension": ".py",
   "mimetype": "text/x-python",
   "name": "python",
   "nbconvert_exporter": "python",
   "pygments_lexer": "ipython3",
   "version": "3.11.3"
  }
 },
 "nbformat": 4,
 "nbformat_minor": 5
}
