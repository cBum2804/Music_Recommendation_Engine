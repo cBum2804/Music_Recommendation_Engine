{
 "cells": [
  {
   "cell_type": "code",
   "execution_count": 28,
   "id": "35761553-7598-4ec6-9094-13c9af3e1c56",
   "metadata": {},
   "outputs": [
    {
     "name": "stdout",
     "output_type": "stream",
     "text": [
      "+-----+-------------+----------------+--------------------+----------+----+--------+------------+------+---+--------+----+-----------+------------+----------------+--------+-------+-------+-----------+--------------+\n",
      "|index|  artist_name|      track_name|            track_id|popularity|year|   genre|danceability|energy|key|loudness|mode|speechiness|acousticness|instrumentalness|liveness|valence|  tempo|duration_ms|time_signature|\n",
      "+-----+-------------+----------------+--------------------+----------+----+--------+------------+------+---+--------+----+-----------+------------+----------------+--------+-------+-------+-----------+--------------+\n",
      "|    0|   Jason Mraz| I Won't Give Up|53QF56cjZA9RTuuMZ...|        68|2012|acoustic|       0.483| 0.303|  4| -10.058|   1|     0.0429|       0.694|             0.0|   0.115|  0.139|133.406|   240166.0|           3.0|\n",
      "|    1|   Jason Mraz|93 Million Miles|1s8tP3jP4GZcyHDsj...|        50|2012|acoustic|       0.572| 0.454|  3| -10.286|   1|     0.0258|       0.477|        1.37e-05|  0.0974|  0.515|140.182|   216387.0|           4.0|\n",
      "|    2|Joshua Hyslop|Do Not Let Me Go|7BRCa8MPiyuvr2VU3...|        57|2012|acoustic|       0.409| 0.234|  3| -13.711|   1|     0.0323|       0.338|           5e-05|  0.0895|  0.145|139.832|   158960.0|           4.0|\n",
      "|    3| Boyce Avenue|        Fast Car|63wsZUhUZLlh1Osyr...|        58|2012|acoustic|       0.392| 0.251| 10|  -9.845|   1|     0.0363|       0.807|             0.0|  0.0797|  0.508|204.961|   304293.0|           4.0|\n",
      "|    4| Andrew Belle|Sky's Still Blue|6nXIYClvJAfi6ujLi...|        54|2012|acoustic|        0.43| 0.791|  6|  -5.419|   0|     0.0302|      0.0726|          0.0193|    0.11|  0.217|171.864|   244320.0|           4.0|\n",
      "+-----+-------------+----------------+--------------------+----------+----+--------+------------+------+---+--------+----+-----------+------------+----------------+--------+-------+-------+-----------+--------------+\n",
      "only showing top 5 rows\n",
      "\n"
     ]
    }
   ],
   "source": [
    "from pyspark.sql import SparkSession\n",
    "\n",
    "# Initialize Spark Session\n",
    "spark = SparkSession.builder.appName(\"SpotifyRecommendation\").getOrCreate()\n",
    "\n",
    "# Load dataset (update the path accordingly)\n",
    "df = spark.read.csv(r\"C:\\Users\\dhruv\\OneDrive\\Desktop\\Music Recommendation project\\data\\spotify_data_million.csv\", \n",
    "                     header=True, inferSchema=True)\n",
    "\n",
    "# Show first 5 rows\n",
    "df.show(5)\n"
   ]
  },
  {
   "cell_type": "code",
   "execution_count": 29,
   "id": "43e697b0-e1cb-4282-ac36-8ed167a21aaf",
   "metadata": {},
   "outputs": [
    {
     "name": "stdout",
     "output_type": "stream",
     "text": [
      "root\n",
      " |-- index: integer (nullable = true)\n",
      " |-- artist_name: string (nullable = true)\n",
      " |-- track_name: string (nullable = true)\n",
      " |-- track_id: string (nullable = true)\n",
      " |-- popularity: string (nullable = true)\n",
      " |-- year: string (nullable = true)\n",
      " |-- genre: string (nullable = true)\n",
      " |-- danceability: string (nullable = true)\n",
      " |-- energy: string (nullable = true)\n",
      " |-- key: string (nullable = true)\n",
      " |-- loudness: string (nullable = true)\n",
      " |-- mode: string (nullable = true)\n",
      " |-- speechiness: string (nullable = true)\n",
      " |-- acousticness: string (nullable = true)\n",
      " |-- instrumentalness: string (nullable = true)\n",
      " |-- liveness: string (nullable = true)\n",
      " |-- valence: double (nullable = true)\n",
      " |-- tempo: double (nullable = true)\n",
      " |-- duration_ms: double (nullable = true)\n",
      " |-- time_signature: double (nullable = true)\n",
      "\n"
     ]
    },
    {
     "data": {
      "text/plain": [
       "['index',\n",
       " 'artist_name',\n",
       " 'track_name',\n",
       " 'track_id',\n",
       " 'popularity',\n",
       " 'year',\n",
       " 'genre',\n",
       " 'danceability',\n",
       " 'energy',\n",
       " 'key',\n",
       " 'loudness',\n",
       " 'mode',\n",
       " 'speechiness',\n",
       " 'acousticness',\n",
       " 'instrumentalness',\n",
       " 'liveness',\n",
       " 'valence',\n",
       " 'tempo',\n",
       " 'duration_ms',\n",
       " 'time_signature']"
      ]
     },
     "execution_count": 29,
     "metadata": {},
     "output_type": "execute_result"
    }
   ],
   "source": [
    "df.printSchema()\n",
    "df.dtypes\n",
    "df.columns\n"
   ]
  },
  {
   "cell_type": "code",
   "execution_count": 11,
   "id": "ee765688-bce1-4add-953f-42046f6540cc",
   "metadata": {},
   "outputs": [
    {
     "name": "stdout",
     "output_type": "stream",
     "text": [
      "Rows: 1159764, Columns: 20\n"
     ]
    }
   ],
   "source": [
    "total_rows = df.count()  # Count total number of rows\n",
    "total_columns = len(df.columns)  # Count total columns\n",
    "print(f\"Rows: {total_rows}, Columns: {total_columns}\")\n",
    "\n",
    "\n",
    "\n"
   ]
  },
  {
   "cell_type": "code",
   "execution_count": 30,
   "id": "6b3789f7-d998-4eb0-a82c-cc13e0139d48",
   "metadata": {},
   "outputs": [
    {
     "name": "stdout",
     "output_type": "stream",
     "text": [
      "+-------+-----------+----------+--------+----------+-------+-------+------------+-------+-------+--------+-------+-----------+------------+----------------+--------+-------+-------+-----------+--------------+\n",
      "|  index|artist_name|track_name|track_id|popularity|   year|  genre|danceability| energy|    key|loudness|   mode|speechiness|acousticness|instrumentalness|liveness|valence|  tempo|duration_ms|time_signature|\n",
      "+-------+-----------+----------+--------+----------+-------+-------+------------+-------+-------+--------+-------+-----------+------------+----------------+--------+-------+-------+-----------+--------------+\n",
      "|1159764|    1159764|   1159764| 1159764|   1159764|1159764|1159764|     1159764|1159764|1159764| 1159764|1159764|    1159764|     1159764|         1159764| 1159764|1159764|1159764|    1159764|       1159764|\n",
      "+-------+-----------+----------+--------+----------+-------+-------+------------+-------+-------+--------+-------+-----------+------------+----------------+--------+-------+-------+-----------+--------------+\n",
      "\n"
     ]
    }
   ],
   "source": [
    "from pyspark.sql.functions import col, count\n",
    "\n",
    "df = df.dropDuplicates()\n",
    "# Count missing values\n",
    "df.select([count(col(c)).alias(c) for c in df.columns]).show()\n",
    "\n"
   ]
  },
  {
   "cell_type": "code",
   "execution_count": 32,
   "id": "9e7abbd6-a0a1-46e2-8f06-1a29ac3e1932",
   "metadata": {},
   "outputs": [
    {
     "data": {
      "text/plain": [
       "882285"
      ]
     },
     "execution_count": 32,
     "metadata": {},
     "output_type": "execute_result"
    }
   ],
   "source": [
    "df.count()"
   ]
  },
  {
   "cell_type": "code",
   "execution_count": 73,
   "id": "129e54cc-b708-45dc-a8eb-ddffa3d51154",
   "metadata": {},
   "outputs": [],
   "source": [
    "df2 = spark.read.csv(r\"C:\\Users\\dhruv\\OneDrive\\Desktop\\Music Recommendation project\\data\\song_data.csv\",header=True, inferSchema=True)"
   ]
  },
  {
   "cell_type": "code",
   "execution_count": 74,
   "id": "9ac8a2ba-1241-4558-8fc8-5a7c5bfc4ce8",
   "metadata": {},
   "outputs": [],
   "source": [
    "df2 = df2.select(\"title\", \"song_id\").dropDuplicates([\"title\"])"
   ]
  },
  {
   "cell_type": "code",
   "execution_count": 50,
   "id": "a135236f-cd61-4a3f-8a81-bbcc4a7f7cbb",
   "metadata": {},
   "outputs": [
    {
     "data": {
      "text/plain": [
       "702429"
      ]
     },
     "execution_count": 50,
     "metadata": {},
     "output_type": "execute_result"
    }
   ],
   "source": [
    "df2.count()"
   ]
  },
  {
   "cell_type": "code",
   "execution_count": 75,
   "id": "afc40c4e-599a-47b2-8232-5c52b0689915",
   "metadata": {},
   "outputs": [],
   "source": [
    "df_common = df.join(df2, df.track_name == df2.title, \"inner\") \\\n",
    " .select(df[\"*\"], df2[\"song_id\"])\n"
   ]
  },
  {
   "cell_type": "code",
   "execution_count": 61,
   "id": "ef1b89ca-84d3-45be-b7e0-8060e14d82bc",
   "metadata": {},
   "outputs": [
    {
     "data": {
      "text/plain": [
       "122915"
      ]
     },
     "execution_count": 61,
     "metadata": {},
     "output_type": "execute_result"
    }
   ],
   "source": [
    "df_common.count()"
   ]
  },
  {
   "cell_type": "code",
   "execution_count": 76,
   "id": "1a606dc6-383b-4df1-803b-75d27d8dc723",
   "metadata": {},
   "outputs": [
    {
     "name": "stdout",
     "output_type": "stream",
     "text": [
      "+-------+--------------------+--------------------+--------------------+----------+----+-------+------------+------+---+--------+----+-----------+------------+----------------+--------+-------+-------+-----------+--------------+------------------+\n",
      "|  index|         artist_name|          track_name|            track_id|popularity|year|  genre|danceability|energy|key|loudness|mode|speechiness|acousticness|instrumentalness|liveness|valence|  tempo|duration_ms|time_signature|           song_id|\n",
      "+-------+--------------------+--------------------+--------------------+----------+----+-------+------------+------+---+--------+----+-----------+------------+----------------+--------+-------+-------+-----------+--------------+------------------+\n",
      "| 239716|            HELLYEAH|                   !|0Prct5TDjAnEgIqbx...|        19|2016| groove|       0.415| 0.605|  7| -11.157|   1|     0.0575|     0.00116|           0.838|   0.471|  0.193|100.059|    79500.0|           4.0|SOCSCCE12AB017DD50|\n",
      "| 873874|      Fischerspooner|              !@*$%#|5vO3fJ9dKGKE276C6...|        15|2003|electro|       0.769| 0.538|  0| -14.459|   0|     0.0655|    0.000156|           0.935|   0.129|  0.709|142.004|   294533.0|           4.0|SOYTRGY12A67021854|\n",
      "|1060770|\"\"\"Weird Al\"\" Yan...|\"Do I Creep You O...|25bu6rqqBZrYXuLaZ...|        27|2006| comedy|       0.564| 0.419|  1|   -10.8|   1|     0.0323|       0.179|             0.0|   0.707|  0.287|144.013|   166520.0|           4.0|SOLAOGR12A8C146032|\n",
      "|1307045|          André Rieu|\"Edelweiss (from ...|3abHe6NvPfger0UiI...|        26|2009|  opera|      0.0923| 0.348| 10| -11.963|   1|     0.0382|       0.419|           0.723|    0.12|  0.112|179.036|   187267.0|           4.0|SOLRPDG12AB0181595|\n",
      "|1075739|           zebrahead|\"Rated \"\"U\"\" For ...|0eThYQbMcIbjO09j7...|        30|2006|   funk|       0.247| 0.996|  6|  -3.506|   0|      0.226|     0.00128|             0.0|   0.346|  0.136|187.025|   181933.0|           4.0|SOEXUMZ12A8C142EA0|\n",
      "+-------+--------------------+--------------------+--------------------+----------+----+-------+------------+------+---+--------+----+-----------+------------+----------------+--------+-------+-------+-----------+--------------+------------------+\n",
      "only showing top 5 rows\n",
      "\n"
     ]
    }
   ],
   "source": [
    "df_common.show(5)"
   ]
  },
  {
   "cell_type": "code",
   "execution_count": 77,
   "id": "d9c129be-b5bf-4fd3-927b-20ee6d458202",
   "metadata": {},
   "outputs": [],
   "source": [
    "cols = df_common.columns\n",
    "cols.remove('song_id')\n",
    "cols.remove('index')\n",
    "df_common = df_common.select(['index'] + [\"song_id\"] + cols)\n",
    " # Renaming the column"
   ]
  },
  {
   "cell_type": "code",
   "execution_count": 78,
   "id": "e5dc2a75-aafc-4a55-87dd-8d9f8d192e75",
   "metadata": {},
   "outputs": [
    {
     "name": "stdout",
     "output_type": "stream",
     "text": [
      "+-------+------------------+--------------------+--------------------+--------------------+----------+----+-------+------------+------+---+--------+----+-----------+------------+----------------+--------+-------+-------+-----------+--------------+\n",
      "|  index|           song_id|         artist_name|          track_name|            track_id|popularity|year|  genre|danceability|energy|key|loudness|mode|speechiness|acousticness|instrumentalness|liveness|valence|  tempo|duration_ms|time_signature|\n",
      "+-------+------------------+--------------------+--------------------+--------------------+----------+----+-------+------------+------+---+--------+----+-----------+------------+----------------+--------+-------+-------+-----------+--------------+\n",
      "| 239716|SOCSCCE12AB017DD50|            HELLYEAH|                   !|0Prct5TDjAnEgIqbx...|        19|2016| groove|       0.415| 0.605|  7| -11.157|   1|     0.0575|     0.00116|           0.838|   0.471|  0.193|100.059|    79500.0|           4.0|\n",
      "| 873874|SOYTRGY12A67021854|      Fischerspooner|              !@*$%#|5vO3fJ9dKGKE276C6...|        15|2003|electro|       0.769| 0.538|  0| -14.459|   0|     0.0655|    0.000156|           0.935|   0.129|  0.709|142.004|   294533.0|           4.0|\n",
      "|1060770|SOLAOGR12A8C146032|\"\"\"Weird Al\"\" Yan...|\"Do I Creep You O...|25bu6rqqBZrYXuLaZ...|        27|2006| comedy|       0.564| 0.419|  1|   -10.8|   1|     0.0323|       0.179|             0.0|   0.707|  0.287|144.013|   166520.0|           4.0|\n",
      "|1307045|SOLRPDG12AB0181595|          André Rieu|\"Edelweiss (from ...|3abHe6NvPfger0UiI...|        26|2009|  opera|      0.0923| 0.348| 10| -11.963|   1|     0.0382|       0.419|           0.723|    0.12|  0.112|179.036|   187267.0|           4.0|\n",
      "|1075739|SOEXUMZ12A8C142EA0|           zebrahead|\"Rated \"\"U\"\" For ...|0eThYQbMcIbjO09j7...|        30|2006|   funk|       0.247| 0.996|  6|  -3.506|   0|      0.226|     0.00128|             0.0|   0.346|  0.136|187.025|   181933.0|           4.0|\n",
      "+-------+------------------+--------------------+--------------------+--------------------+----------+----+-------+------------+------+---+--------+----+-----------+------------+----------------+--------+-------+-------+-----------+--------------+\n",
      "only showing top 5 rows\n",
      "\n"
     ]
    }
   ],
   "source": [
    "df_common.show(5)"
   ]
  },
  {
   "cell_type": "code",
   "execution_count": 83,
   "id": "560982c9-a6a3-4aef-be67-c9e9604f2e64",
   "metadata": {},
   "outputs": [
    {
     "name": "stdout",
     "output_type": "stream",
     "text": [
      "root\n",
      " |-- index: integer (nullable = true)\n",
      " |-- song_id: string (nullable = true)\n",
      " |-- artist_name: string (nullable = true)\n",
      " |-- track_name: string (nullable = true)\n",
      " |-- track_id: string (nullable = true)\n",
      " |-- popularity: string (nullable = true)\n",
      " |-- year: string (nullable = true)\n",
      " |-- genre: string (nullable = true)\n",
      " |-- danceability: string (nullable = true)\n",
      " |-- energy: string (nullable = true)\n",
      " |-- key: string (nullable = true)\n",
      " |-- loudness: string (nullable = true)\n",
      " |-- mode: string (nullable = true)\n",
      " |-- speechiness: string (nullable = true)\n",
      " |-- acousticness: string (nullable = true)\n",
      " |-- instrumentalness: string (nullable = true)\n",
      " |-- liveness: string (nullable = true)\n",
      " |-- valence: double (nullable = true)\n",
      " |-- tempo: double (nullable = true)\n",
      " |-- duration_ms: double (nullable = true)\n",
      " |-- time_signature: double (nullable = true)\n",
      "\n",
      "+-------+------------------+--------------------+--------------------+--------------------+----------+----+-------+------------+------+---+--------+----+-----------+------------+----------------+--------+-------+-------+-----------+--------------+\n",
      "|  index|           song_id|         artist_name|          track_name|            track_id|popularity|year|  genre|danceability|energy|key|loudness|mode|speechiness|acousticness|instrumentalness|liveness|valence|  tempo|duration_ms|time_signature|\n",
      "+-------+------------------+--------------------+--------------------+--------------------+----------+----+-------+------------+------+---+--------+----+-----------+------------+----------------+--------+-------+-------+-----------+--------------+\n",
      "| 239716|SOCSCCE12AB017DD50|            HELLYEAH|                   !|0Prct5TDjAnEgIqbx...|        19|2016| groove|       0.415| 0.605|  7| -11.157|   1|     0.0575|     0.00116|           0.838|   0.471|  0.193|100.059|    79500.0|           4.0|\n",
      "| 873874|SOYTRGY12A67021854|      Fischerspooner|              !@*$%#|5vO3fJ9dKGKE276C6...|        15|2003|electro|       0.769| 0.538|  0| -14.459|   0|     0.0655|    0.000156|           0.935|   0.129|  0.709|142.004|   294533.0|           4.0|\n",
      "|1060770|SOLAOGR12A8C146032|\"\"\"Weird Al\"\" Yan...|\"Do I Creep You O...|25bu6rqqBZrYXuLaZ...|        27|2006| comedy|       0.564| 0.419|  1|   -10.8|   1|     0.0323|       0.179|             0.0|   0.707|  0.287|144.013|   166520.0|           4.0|\n",
      "|1307045|SOLRPDG12AB0181595|          André Rieu|\"Edelweiss (from ...|3abHe6NvPfger0UiI...|        26|2009|  opera|      0.0923| 0.348| 10| -11.963|   1|     0.0382|       0.419|           0.723|    0.12|  0.112|179.036|   187267.0|           4.0|\n",
      "|1075739|SOEXUMZ12A8C142EA0|           zebrahead|\"Rated \"\"U\"\" For ...|0eThYQbMcIbjO09j7...|        30|2006|   funk|       0.247| 0.996|  6|  -3.506|   0|      0.226|     0.00128|             0.0|   0.346|  0.136|187.025|   181933.0|           4.0|\n",
      "+-------+------------------+--------------------+--------------------+--------------------+----------+----+-------+------------+------+---+--------+----+-----------+------------+----------------+--------+-------+-------+-----------+--------------+\n",
      "only showing top 5 rows\n",
      "\n"
     ]
    }
   ],
   "source": [
    "\n",
    "# Clean column names\n",
    "df_common = df_common.toDF(*[col_name.strip() for col_name in df_common.columns])\n",
    "\n",
    "df_common.printSchema()\n",
    "df_common.show(5)"
   ]
  },
  {
   "cell_type": "code",
   "execution_count": 84,
   "id": "f17dcff6-f2f0-450e-ae53-f51c17b13683",
   "metadata": {},
   "outputs": [],
   "source": [
    "df_common.toPandas().to_csv('common_song.csv', index= False)"
   ]
  },
  {
   "cell_type": "code",
   "execution_count": 85,
   "id": "f7fcf86d-0e90-4f1f-bf86-afb5ad5533c8",
   "metadata": {},
   "outputs": [],
   "source": [
    "df_user_data = spark.read.csv(r\"C:\\Users\\dhruv\\OneDrive\\Desktop\\Music Recommendation project\\data\\triplets_file.csv\", \n",
    "                     header=True, inferSchema=True)"
   ]
  },
  {
   "cell_type": "code",
   "execution_count": 86,
   "id": "686e84cb-4c7c-45a6-9a43-afd0f6466619",
   "metadata": {},
   "outputs": [],
   "source": [
    "df_user_data = df_user_data.na.drop(\"any\")"
   ]
  },
  {
   "cell_type": "code",
   "execution_count": 87,
   "id": "437e1593-cc17-42e1-b81d-0f850af2514f",
   "metadata": {},
   "outputs": [
    {
     "data": {
      "text/plain": [
       "2000000"
      ]
     },
     "execution_count": 87,
     "metadata": {},
     "output_type": "execute_result"
    }
   ],
   "source": [
    "df_user_data.count()"
   ]
  },
  {
   "cell_type": "code",
   "execution_count": 89,
   "id": "6fba2b4a-ff38-4231-b039-36b943ed6fee",
   "metadata": {},
   "outputs": [
    {
     "data": {
      "text/plain": [
       "513463"
      ]
     },
     "execution_count": 89,
     "metadata": {},
     "output_type": "execute_result"
    }
   ],
   "source": [
    "df_common_data = df_common.join(df_user_data, df_user_data.song_id == df_common.song_id, \"inner\") \\\n",
    " .select(df_user_data[\"*\"])\n",
    "\n",
    "                       \n",
    "\n",
    "df_common_data.count()  # Check row count"
   ]
  },
  {
   "cell_type": "code",
   "execution_count": 40,
   "id": "ffd08a3c-b400-46dc-b9a1-f91f9bfb35b4",
   "metadata": {},
   "outputs": [
    {
     "name": "stdout",
     "output_type": "stream",
     "text": [
      "+--------------------+------------------+------------+\n",
      "|             user_id|           song_id|listen_count|\n",
      "+--------------------+------------------+------------+\n",
      "|5a905f000fc1ff3df...|SOPQGWI12A8C135DDB|           2|\n",
      "|9b887e10a47114860...|SOTJTUX12AB018247F|           1|\n",
      "|4d4abafb7dd7a3020...|SOPPRUF12A8C1414F3|           3|\n",
      "|93daed66184da1bf1...|SOBAQTV12A8C142277|           1|\n",
      "|1a640060dad45f7cb...|SOKOVZK12A6D4F707F|           1|\n",
      "|370190e231e1d4a93...|SOSASFL12A6D4F7B02|           4|\n",
      "|22d652f8891ba2186...|SOWRRVU12A8C14060B|           6|\n",
      "|de4b6bc067e53e24a...|SOWRRVU12A8C14060B|           3|\n",
      "|77448d704c1b9acc3...|SOPPRUF12A8C1414F3|           1|\n",
      "|96de646dade100899...|SODABFB12A58A81788|           1|\n",
      "+--------------------+------------------+------------+\n",
      "only showing top 10 rows\n",
      "\n"
     ]
    }
   ],
   "source": [
    "df_common_data.show(10)"
   ]
  },
  {
   "cell_type": "code",
   "execution_count": 90,
   "id": "c3635ce0-b94d-44c4-b4a1-14005b4932a8",
   "metadata": {},
   "outputs": [],
   "source": [
    "df_common_data.toPandas().to_csv('updated_user_data.csv', index=False)"
   ]
  },
  {
   "cell_type": "code",
   "execution_count": 42,
   "id": "03c56332-5196-42b8-9fce-c5827b48db2d",
   "metadata": {},
   "outputs": [
    {
     "name": "stdout",
     "output_type": "stream",
     "text": [
      "+----------------+----------------+------------------+\n",
      "|min_listen_count|max_listen_count|  avg_listen_count|\n",
      "+----------------+----------------+------------------+\n",
      "|               1|             676|2.7961625277770743|\n",
      "+----------------+----------------+------------------+\n",
      "\n"
     ]
    }
   ],
   "source": [
    "from pyspark.sql.functions import min, max, avg, count, sum\n",
    "df_common_data.select(\n",
    "    min(\"listen_count\").alias(\"min_listen_count\"),\n",
    "    max(\"listen_count\").alias(\"max_listen_count\"),\n",
    "    avg(\"listen_count\").alias(\"avg_listen_count\"),\n",
    ").show()\n"
   ]
  },
  {
   "cell_type": "code",
   "execution_count": 43,
   "id": "d8007945-dba0-46cd-96c7-6af746d81ad5",
   "metadata": {},
   "outputs": [
    {
     "name": "stdout",
     "output_type": "stream",
     "text": [
      "Median: 1.0\n"
     ]
    }
   ],
   "source": [
    "median = df_common_data.approxQuantile(\"listen_count\", [0.5], 0.01)[0]\n",
    "print(\"Median:\", median)\n"
   ]
  },
  {
   "cell_type": "code",
   "execution_count": 44,
   "id": "46f61b27-aee7-4b19-ab8c-ba51a3d55889",
   "metadata": {},
   "outputs": [
    {
     "name": "stdout",
     "output_type": "stream",
     "text": [
      "Mode: 1\n"
     ]
    }
   ],
   "source": [
    "from pyspark.sql.functions import col, count\n",
    "\n",
    "mode_row = df_common_data.groupBy(\"listen_count\") \\\n",
    "             .agg(count(\"*\").alias(\"freq\")) \\\n",
    "             .orderBy(col(\"freq\").desc()) \\\n",
    "             .first()\n",
    "\n",
    "mode = mode_row[\"listen_count\"]\n",
    "print(\"Mode:\", mode)\n"
   ]
  },
  {
   "cell_type": "code",
   "execution_count": 2,
   "id": "4bfdd4d2-d1df-4333-ad9b-916cbf1818fa",
   "metadata": {},
   "outputs": [],
   "source": [
    "df4 = spark.read.csv(r\"C:\\Users\\dhruv\\OneDrive\\Desktop\\Music Recommendation project\\data\\updated_user_data.csv\",header=True, inferSchema=True)"
   ]
  },
  {
   "cell_type": "code",
   "execution_count": 5,
   "id": "f12e4de9-7f82-4be7-940f-038f1c512135",
   "metadata": {},
   "outputs": [
    {
     "data": {
      "text/plain": [
       "DataFrame[_c0: int, user_id: string, song_id: string, listen_count: int]"
      ]
     },
     "execution_count": 5,
     "metadata": {},
     "output_type": "execute_result"
    }
   ],
   "source": [
    "df4"
   ]
  },
  {
   "cell_type": "code",
   "execution_count": null,
   "id": "8e9c464b-21c0-43f0-8fe6-10fbd3919940",
   "metadata": {},
   "outputs": [],
   "source": [
    "df4.select(\"listen_count\").distinct().show()\n"
   ]
  },
  {
   "cell_type": "code",
   "execution_count": null,
   "id": "d5256fa9-ee0b-4c8f-b5b9-6d496feb80f0",
   "metadata": {},
   "outputs": [],
   "source": [
    "df4.groupBy(\"listen_count\").count().orderBy(\"count\", ascending=False).show(truncate=False, n=1000)\n"
   ]
  },
  {
   "cell_type": "code",
   "execution_count": null,
   "id": "092ab536-4a6d-4f8e-9215-82924475073e",
   "metadata": {},
   "outputs": [],
   "source": [
    "df4.groupBy(\"user_id\").count().orderBy(\"count\", ascending=False).show(truncate=False, n=1000)\n"
   ]
  },
  {
   "cell_type": "code",
   "execution_count": null,
   "id": "53a9acdc-f1b4-4c6e-9a99-f10087468a85",
   "metadata": {},
   "outputs": [],
   "source": [
    "df.groupBy(\"time_signature\").count().orderBy(\"count\", ascending=False).show(truncate=False, n=1000)\n"
   ]
  },
  {
   "cell_type": "code",
   "execution_count": 7,
   "id": "3e695741-3b44-4ce3-9f74-69a056fbdff5",
   "metadata": {},
   "outputs": [],
   "source": [
    "from pyspark.sql import SparkSession\n",
    "\n",
    "# Initialize Spark Session\n",
    "spark = SparkSession.builder.appName(\"SpotifyRecommendation\").getOrCreate()\n",
    "df5 = spark.read.csv(r\"C:\\Users\\dhruv\\OneDrive\\Desktop\\Music Recommendation project\\data\\common_song.csv\", \n",
    "                     header=True, inferSchema=True)\n"
   ]
  },
  {
   "cell_type": "code",
   "execution_count": 8,
   "id": "e415b0e3-a082-4c6c-bcb5-13c243cd1da3",
   "metadata": {},
   "outputs": [
    {
     "data": {
      "text/plain": [
       "122914"
      ]
     },
     "execution_count": 8,
     "metadata": {},
     "output_type": "execute_result"
    }
   ],
   "source": [
    "df5.select(\"song_id\").distinct().count()\n"
   ]
  },
  {
   "cell_type": "code",
   "execution_count": 1,
   "id": "869b74d1-40a7-433b-9db8-d73659a0fe5c",
   "metadata": {},
   "outputs": [
    {
     "name": "stdout",
     "output_type": "stream",
     "text": [
      "My numpy version is:  2.2.4\n"
     ]
    }
   ],
   "source": [
    "import numpy as np\n",
    "\n",
    "print(\"My numpy version is: \", np.__version__)"
   ]
  },
  {
   "cell_type": "code",
   "execution_count": null,
   "id": "b0eb389d-ebf4-4779-b5e9-8afdc75155a5",
   "metadata": {},
   "outputs": [],
   "source": []
  }
 ],
 "metadata": {
  "kernelspec": {
   "display_name": "Python 3 (ipykernel)",
   "language": "python",
   "name": "python3"
  },
  "language_info": {
   "codemirror_mode": {
    "name": "ipython",
    "version": 3
   },
   "file_extension": ".py",
   "mimetype": "text/x-python",
   "name": "python",
   "nbconvert_exporter": "python",
   "pygments_lexer": "ipython3",
   "version": "3.11.3"
  }
 },
 "nbformat": 4,
 "nbformat_minor": 5
}
